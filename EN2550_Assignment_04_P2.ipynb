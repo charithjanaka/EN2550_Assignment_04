{
  "nbformat": 4,
  "nbformat_minor": 0,
  "metadata": {
    "colab": {
      "name": "EN2550_Assignment_04_P2.ipynb",
      "provenance": [],
      "collapsed_sections": []
    },
    "kernelspec": {
      "display_name": "Python 3",
      "name": "python3"
    },
    "language_info": {
      "name": "python"
    }
  },
  "cells": [
    {
      "cell_type": "code",
      "metadata": {
        "colab": {
          "base_uri": "https://localhost:8080/"
        },
        "id": "NarosF5mRZqs",
        "outputId": "b2e3b489-9907-40ad-e850-f060a0e69247"
      },
      "source": [
        "import tensorflow as tf\n",
        "from tensorflow import keras\n",
        "import numpy as np\n",
        "import matplotlib.pyplot as plt\n",
        "\n",
        "# Loading Training and Test data sets\n",
        "(x_train, y_train), (x_test, y_test) = keras.datasets.cifar10.load_data()\n",
        "print('x_train: ', x_train.shape)\n",
        "\n",
        "K = len(np.unique(y_train)) # Number of Classes\n",
        "Ntr = x_train.shape[0]      # Number of Training examples\n",
        "Nte = x_test.shape[0]       # Number of Testing examples\n",
        "Din = 3072                  # CIFAR10 (Size of an example)\n",
        "\n",
        "# Normalize pixel values\n",
        "#x_train, x_test = x_train / 255.0, x_test / 255.0\n",
        "\n",
        "# Subtract the means of images to make the network less sensitive to differing background and lightening conditions.\n",
        "mean_image = np.mean(x_train, axis=0)\n",
        "x_train = x_train - mean_image\n",
        "x_test = x_test - mean_image\n",
        "\n",
        "# Obtaining a binary numpy array from y_train and y_test\n",
        "y_train = tf.keras.utils.to_categorical(y_train, num_classes=K)\n",
        "y_test = tf.keras.utils.to_categorical(y_test, num_classes=K)\n",
        "\n",
        "# Reshape image arrays from 32 x 32 x 3 into 1 x  3072\n",
        "x_train = np.reshape(x_train,(Ntr,Din)).astype('float32')\n",
        "x_test = np.reshape(x_test,(Nte,Din)).astype('float32')"
      ],
      "execution_count": 2,
      "outputs": [
        {
          "output_type": "stream",
          "text": [
            "Downloading data from https://www.cs.toronto.edu/~kriz/cifar-10-python.tar.gz\n",
            "170500096/170498071 [==============================] - 2s 0us/step\n",
            "x_train:  (50000, 32, 32, 3)\n"
          ],
          "name": "stdout"
        }
      ]
    },
    {
      "cell_type": "code",
      "metadata": {
        "colab": {
          "base_uri": "https://localhost:8080/"
        },
        "id": "rcYyaCHPRf_u",
        "outputId": "97dc7e4f-862b-4f8f-ccf5-f6bf3d83d006"
      },
      "source": [
        "H = 200                               # Number of hidden nodes\n",
        "std=1.6e-5                              # Standard deviation\n",
        "w1 = std*np.random.randn(Din, H)      # Weights 1 matrix\n",
        "w2 = std*np.random.randn(H, K)        # Weights 2 matrix\n",
        "b1 = np.zeros(H)                      # Bias 1 vector\n",
        "b2 = np.zeros(K)                      # Bias 2 vector\n",
        "print(\"w1:\", w1.shape)\n",
        "print(\"b1:\", b1.shape)\n",
        "print(\"w2:\", w2.shape)\n",
        "print(\"b2:\", b2.shape)\n",
        "\n",
        "batch_size = Ntr                    # Batch size\n",
        "\n",
        "iterations = 300                    # Number of iterations to run Gradient Descent (For this case it equals to 300 epochs)\n",
        "alpha = 1.5e-2                        # Learning Rate\n",
        "alpha_decay= 0.999                  # Decay learning rate for convergence\n",
        "Lambda = 5e-6                       # Regularization rate\n",
        "\n",
        "loss_history = []                   # Loss history\n",
        "train_acc_history = []              # Traing accuracy history\n",
        "\n",
        "# Random Generator\n",
        "seed = 0\n",
        "rng = np.random.default_rng(seed=seed)\n",
        "\n",
        "for t in range(iterations):\n",
        "    indices = np.arange(Ntr)\n",
        "    rng.shuffle(indices)\n",
        "    # Forward pass\n",
        "    x = x_train[indices]\n",
        "    y = y_train[indices]\n",
        "    h = 1.0/(1.0+np.exp(-(x.dot(w1) + b1)))   # Sigmoid\n",
        "    y_pred = h.dot(w2) + b2\n",
        "    loss = (1./batch_size)*(np.square(y_pred - y).sum()) + Lambda * (np.sum(w1 * w1) + np.sum(w1 * w1))\n",
        "    loss_history.append(loss)\n",
        "\n",
        "    # Printing Loss in each 10 iterations\n",
        "    if t % 10 == 0:\n",
        "        print('iteration %d / %d: loss %f ' %(t, iterations, loss))\n",
        "\n",
        "    # Backward pass\n",
        "    dy_pred = (1./batch_size)*2.0*(y_pred - y)              # PD of loss w.r.t. y_pred\n",
        "    dw2 = h.T.dot(dy_pred) + Lambda * w2                    # PD of loss w.r.t. w2\n",
        "    db2 = dy_pred.sum(axis = 0)                             # PD of loss w.r.t. b2\n",
        "    dh = dy_pred.dot(w2.T)                                  # PD of loss w.r.t. h\n",
        "    dw1 = x.T.dot(dh*h*(1-h)) + Lambda * w1                 # PD of loss w.r.t. w1 \n",
        "    db1 = (dh*h*(1-h)).sum(axis = 0)                        # PD of loss w.r.t. b1\n",
        "    w2 -= alpha * dw2                                       # Update weights 2\n",
        "    b2 -= alpha * db2                                       # Update biases 2\n",
        "    w1 -= alpha * dw1                                       # Update weights 1\n",
        "    b1 -= alpha * db1                                       # Update biases 1\n",
        "    alpha *= alpha_decay                                    # Decay learning rate\n",
        "\n",
        "    # Appending Train accuracy to history\n",
        "    h = 1.0/(1.0 + np.exp(-(x.dot(w1)+b1)))\n",
        "    y_pred = h.dot(w2) + b2\n",
        "    train_acc = 1.0 - 1/(Ntr*9)*(np.abs(np.argmax(y_train, axis = 1) - np.argmax(y_pred, axis = 1))).sum()\n",
        "    train_acc_history.append(train_acc)"
      ],
      "execution_count": 3,
      "outputs": [
        {
          "output_type": "stream",
          "text": [
            "w1: (3072, 200)\n",
            "b1: (200,)\n",
            "w2: (200, 10)\n",
            "b2: (10,)\n",
            "iteration 0 / 300: loss 0.999986 \n",
            "iteration 10 / 300: loss 0.860319 \n",
            "iteration 20 / 300: loss 0.837341 \n",
            "iteration 30 / 300: loss 0.827013 \n",
            "iteration 40 / 300: loss 0.815906 \n",
            "iteration 50 / 300: loss 0.803528 \n",
            "iteration 60 / 300: loss 0.809739 \n",
            "iteration 70 / 300: loss 0.790348 \n",
            "iteration 80 / 300: loss 0.782884 \n",
            "iteration 90 / 300: loss 0.784273 \n",
            "iteration 100 / 300: loss 0.791114 \n",
            "iteration 110 / 300: loss 0.777094 \n",
            "iteration 120 / 300: loss 0.771480 \n",
            "iteration 130 / 300: loss 0.775403 \n",
            "iteration 140 / 300: loss 0.768695 \n",
            "iteration 150 / 300: loss 0.760476 \n",
            "iteration 160 / 300: loss 0.761918 \n",
            "iteration 170 / 300: loss 0.760388 \n",
            "iteration 180 / 300: loss 0.750336 \n",
            "iteration 190 / 300: loss 0.755543 \n",
            "iteration 200 / 300: loss 0.754354 \n",
            "iteration 210 / 300: loss 0.762238 \n",
            "iteration 220 / 300: loss 0.741648 \n",
            "iteration 230 / 300: loss 0.743955 \n",
            "iteration 240 / 300: loss 0.754908 \n",
            "iteration 250 / 300: loss 0.744259 \n",
            "iteration 260 / 300: loss 0.751723 \n",
            "iteration 270 / 300: loss 0.733392 \n",
            "iteration 280 / 300: loss 0.732905 \n",
            "iteration 290 / 300: loss 0.728537 \n"
          ],
          "name": "stdout"
        }
      ]
    },
    {
      "cell_type": "code",
      "metadata": {
        "colab": {
          "base_uri": "https://localhost:8080/",
          "height": 371
        },
        "id": "vBAl48u_RyPJ",
        "outputId": "2e3fb9ae-30d8-4a20-a5fb-f7834fc514ef"
      },
      "source": [
        "# Printing accuracies and losses\n",
        "\n",
        "# History\n",
        "fig, ax = plt.subplots(1,2, figsize = (10,5))\n",
        "ax[0].plot(loss_history)                # Training Loss History\n",
        "ax[1].plot(train_acc_history)           # Training Accuracy History\n",
        "\n",
        "# Calculating and Printing Training Accuracy\n",
        "x_t = x_train\n",
        "h = 1.0/(1.0+np.exp(-(x_t.dot(w1) + b1)))\n",
        "y_pred = h.dot(w2) + b2\n",
        "train_acc = 1.0 - 1/(Ntr*9)*(np.abs(np.argmax(y_train, axis = 1) - np.argmax(y_pred, axis = 1))).sum()\n",
        "print(\"train_acc = \",train_acc)\n",
        "\n",
        "# Calculating and Printing Testing Accuracy\n",
        "x_t = x_test\n",
        "h = 1.0/(1.0+np.exp(-(x_t.dot(w1) + b1)))\n",
        "y_pred = h.dot(w2) + b2\n",
        "test_acc =  1.0 - 1/(Nte*9)*(np.abs(np.argmax(y_test, axis = 1) - np.argmax(y_pred, axis = 1))).sum()\n",
        "print(\"test_acc = \",test_acc)\n",
        "\n",
        "# Testing Loss\n",
        "test_loss = (1./Nte)*(np.square(y_pred - y_test).sum())\n",
        "print(\"test_loss = \",test_loss)"
      ],
      "execution_count": 6,
      "outputs": [
        {
          "output_type": "stream",
          "text": [
            "train_acc =  0.78498\n",
            "test_acc =  0.7681777777777777\n",
            "test_loss =  0.7525615878854419\n"
          ],
          "name": "stdout"
        },
        {
          "output_type": "display_data",
          "data": {
            "image/png": "[encoded data removed]",
            "text/plain": [
              "<Figure size 720x360 with 2 Axes>"
            ]
          },
          "metadata": {
            "tags": [],
            "needs_background": "light"
          }
        }
      ]
    },
    {
      "cell_type": "markdown",
      "metadata": {
        "id": "3R67gfke2BZ_"
      },
      "source": [
        "Log (Expreiment with alpha)\n",
        "\n",
        "alpha = 2e-3 --> tr_loss = 0.8021,te_loss = 0.8017, tr_acc = 0.7374, te_acc = 0.7393\n",
        "\n",
        "alpha = 1e-3 --> tr_loss = 0.8297,te_loss = 0.8285, tr_acc = 0.7074, te_acc = 0.7099\n",
        "\n",
        "alpha = 1.5e-2 --> tr_loss = 0.7325,te_loss = 0.7604, tr_acc = 0.7832, te_acc = 0.7664\n",
        "\n",
        "alpha = 1e-2 --> tr_loss = 0.7464,te_loss = 0.7612, tr_acc = 0.7721, te_acc = 0.7597"
      ]
    }
  ]
}
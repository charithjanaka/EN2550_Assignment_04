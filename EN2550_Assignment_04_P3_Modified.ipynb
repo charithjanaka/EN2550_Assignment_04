{
  "nbformat": 4,
  "nbformat_minor": 0,
  "metadata": {
    "colab": {
      "name": "EN2550_Assignment_04_P3.ipynb",
      "provenance": [],
      "collapsed_sections": []
    },
    "kernelspec": {
      "display_name": "Python 3",
      "name": "python3"
    },
    "language_info": {
      "name": "python"
    }
  },
  "cells": [
    {
      "cell_type": "code",
      "metadata": {
        "colab": {
          "base_uri": "https://localhost:8080/"
        },
        "id": "9De8aGvcR6EB",
        "outputId": "b8e11c8a-9c8b-44f1-efab-d0a36f60d7da"
      },
      "source": [
        "import tensorflow as tf\n",
        "from tensorflow import keras\n",
        "import numpy as np\n",
        "import matplotlib.pyplot as plt\n",
        "\n",
        "# Loading Training and Test data sets\n",
        "(x_train, y_train), (x_test, y_test) = keras.datasets.cifar10.load_data()\n",
        "print('x_train: ', x_train.shape)\n",
        "\n",
        "K = len(np.unique(y_train)) # Number of Classes\n",
        "Ntr = x_train.shape[0]      # Number of Training examples\n",
        "Nte = x_test.shape[0]       # Number of Testing examples\n",
        "Din = 3072                  # CIFAR10 (Size of an example)\n",
        "\n",
        "# Normalize pixel values\n",
        "#x_train, x_test = x_train / 255.0, x_test / 255.0\n",
        "\n",
        "# Subtract the means of images to make the network less sensitive to differing background and lightening conditions.\n",
        "mean_image = np.mean(x_train, axis=0)\n",
        "x_train = x_train - mean_image\n",
        "x_test = x_test - mean_image\n",
        "\n",
        "# Obtaining a binary numpy array from y_train and y_test\n",
        "y_train = tf.keras.utils.to_categorical(y_train, num_classes=K)\n",
        "y_test = tf.keras.utils.to_categorical(y_test, num_classes=K)\n",
        "\n",
        "# Reshape image arrays from 32 x 32 x 3 into 1 x  3072\n",
        "x_train = np.reshape(x_train,(Ntr,Din)).astype('float32')\n",
        "x_test = np.reshape(x_test,(Nte,Din)).astype('float32')"
      ],
      "execution_count": 8,
      "outputs": [
        {
          "output_type": "stream",
          "text": [
            "x_train:  (50000, 32, 32, 3)\n"
          ],
          "name": "stdout"
        }
      ]
    },
    {
      "cell_type": "code",
      "metadata": {
        "colab": {
          "base_uri": "https://localhost:8080/"
        },
        "id": "Jpbl4Y7mSBaf",
        "outputId": "d52fc32d-e300-47f2-9218-19e9b91dabc9"
      },
      "source": [
        "H = 200                               # Number of hidden nodes\n",
        "std=1e-5                              # Standard deviation\n",
        "w1 = std*np.random.randn(Din, H)      # Weights 1 matrix\n",
        "w2 = std*np.random.randn(H, K)        # Weights 2 matrix\n",
        "b1 = np.zeros(H)                      # Bias 1 vector\n",
        "b2 = np.zeros(K)                      # Bias 2 vector\n",
        "print(\"w1:\", w1.shape)\n",
        "print(\"b1:\", b1.shape)\n",
        "print(\"w2:\", w1.shape)\n",
        "print(\"b2:\", b1.shape)\n",
        "\n",
        "batch_size = 500                    # Batch size\n",
        "\n",
        "iterations = 100                    # Number of epochs\n",
        "alpha = 1.5e-2                      # Learning Rate\n",
        "alpha_decay= 0.999                  # Decay learning rate for convergence\n",
        "Lambda = 5e-6                       # Regularization rate\n",
        "\n",
        "loss_history = []                   # Loss history\n",
        "train_acc_history = []              # Traing accuracy history\n",
        "\n",
        "seed = 0\n",
        "rng = np.random.default_rng(seed=seed)  # Random Generator\n",
        "\n",
        "# Loop over 100 epochs\n",
        "for t in range(iterations):\n",
        "    Indices = np.arange(Ntr)\n",
        "    Indices = np.split(Indices, 100)    # Generate an array consisting of sub arrays which having 500 indices of training images\n",
        "    # Loop over 100 mini batches\n",
        "    for i,indices in enumerate(Indices):\n",
        "      rng.shuffle(indices)              # Randomly shuffle the indices\n",
        "      # Forward pass\n",
        "      x = x_train[indices]\n",
        "      y = y_train[indices]\n",
        "      h = 1.0/(1.0+np.exp(-(x.dot(w1) + b1)))\n",
        "      y_pred = h.dot(w2) + b2\n",
        "      loss = (1./batch_size)*(np.square(y_pred - y).sum()) + Lambda * (np.sum(w1 * w1) + np.sum(w1 * w1))\n",
        "      loss_history.append(loss)\n",
        "\n",
        "      # Printing Loss in each 10 iterations\n",
        "      if i % 100 == 0:\n",
        "          print('iteration %d / %d: loss %f ' %(t, iterations, loss))\n",
        "\n",
        "      # Backward pass\n",
        "      dy_pred = (1./batch_size)*2.0*(y_pred - y)              # PD of loss w.r.t. y_pred\n",
        "      dw2 = h.T.dot(dy_pred) + Lambda * w2                    # PD of loss w.r.t. w2\n",
        "      db2 = dy_pred.sum(axis = 0)                             # PD of loss w.r.t. b2\n",
        "      dh = dy_pred.dot(w2.T)                                  # PD of loss w.r.t. h\n",
        "      dw1 = x.T.dot(dh*h*(1-h)) + Lambda * w1                 # PD of loss w.r.t. w1 \n",
        "      db1 = (dh*h*(1-h)).sum(axis = 0)                        # PD of loss w.r.t. b1\n",
        "      w2 -= alpha * dw2                                       # Update weights 2\n",
        "      b2 -= alpha * db2                                       # Update biases 2\n",
        "      w1 -= alpha * dw1                                       # Update weights 1\n",
        "      b1 -= alpha * db1                                       # Update biases 1\n",
        "      alpha *= alpha_decay                                    # Decay learning rate\n",
        "\n",
        "      # Appending Train accuracy to history\n",
        "      h = 1.0/(1.0 + np.exp(-(x.dot(w1)+b1)))\n",
        "      y_pred = h.dot(w2) + b2\n",
        "      train_acc = 1.0 - 1/(Ntr*9)*(np.abs(np.argmax(y, axis = 1) - np.argmax(y_pred, axis = 1))).sum()\n",
        "      train_acc_history.append(train_acc)"
      ],
      "execution_count": 9,
      "outputs": [
        {
          "output_type": "stream",
          "text": [
            "w1: (3072, 200)\n",
            "b1: (200,)\n",
            "w2: (3072, 200)\n",
            "b2: (200,)\n",
            "iteration 0 / 100: loss 0.999982 \n",
            "iteration 1 / 100: loss 0.790289 \n",
            "iteration 2 / 100: loss 0.758791 \n",
            "iteration 3 / 100: loss 0.748194 \n",
            "iteration 4 / 100: loss 0.728809 \n",
            "iteration 5 / 100: loss 0.718398 \n",
            "iteration 6 / 100: loss 0.708401 \n",
            "iteration 7 / 100: loss 0.697035 \n",
            "iteration 8 / 100: loss 0.692647 \n",
            "iteration 9 / 100: loss 0.681102 \n",
            "iteration 10 / 100: loss 0.673489 \n",
            "iteration 11 / 100: loss 0.666248 \n",
            "iteration 12 / 100: loss 0.656986 \n",
            "iteration 13 / 100: loss 0.652635 \n",
            "iteration 14 / 100: loss 0.645898 \n",
            "iteration 15 / 100: loss 0.640385 \n",
            "iteration 16 / 100: loss 0.634505 \n",
            "iteration 17 / 100: loss 0.629332 \n",
            "iteration 18 / 100: loss 0.624977 \n",
            "iteration 19 / 100: loss 0.621539 \n",
            "iteration 20 / 100: loss 0.618433 \n",
            "iteration 21 / 100: loss 0.615316 \n",
            "iteration 22 / 100: loss 0.612354 \n",
            "iteration 23 / 100: loss 0.609726 \n",
            "iteration 24 / 100: loss 0.607438 \n",
            "iteration 25 / 100: loss 0.605529 \n",
            "iteration 26 / 100: loss 0.603868 \n",
            "iteration 27 / 100: loss 0.602216 \n",
            "iteration 28 / 100: loss 0.600588 \n",
            "iteration 29 / 100: loss 0.599028 \n",
            "iteration 30 / 100: loss 0.597574 \n",
            "iteration 31 / 100: loss 0.596255 \n",
            "iteration 32 / 100: loss 0.595041 \n",
            "iteration 33 / 100: loss 0.593915 \n",
            "iteration 34 / 100: loss 0.592883 \n",
            "iteration 35 / 100: loss 0.591956 \n",
            "iteration 36 / 100: loss 0.591127 \n",
            "iteration 37 / 100: loss 0.590387 \n",
            "iteration 38 / 100: loss 0.589719 \n",
            "iteration 39 / 100: loss 0.589090 \n",
            "iteration 40 / 100: loss 0.588481 \n",
            "iteration 41 / 100: loss 0.587891 \n",
            "iteration 42 / 100: loss 0.587328 \n",
            "iteration 43 / 100: loss 0.586800 \n",
            "iteration 44 / 100: loss 0.586309 \n",
            "iteration 45 / 100: loss 0.585855 \n",
            "iteration 46 / 100: loss 0.585438 \n",
            "iteration 47 / 100: loss 0.585054 \n",
            "iteration 48 / 100: loss 0.584702 \n",
            "iteration 49 / 100: loss 0.584378 \n",
            "iteration 50 / 100: loss 0.584081 \n",
            "iteration 51 / 100: loss 0.583808 \n",
            "iteration 52 / 100: loss 0.583559 \n",
            "iteration 53 / 100: loss 0.583331 \n",
            "iteration 54 / 100: loss 0.583122 \n",
            "iteration 55 / 100: loss 0.582932 \n",
            "iteration 56 / 100: loss 0.582759 \n",
            "iteration 57 / 100: loss 0.582602 \n",
            "iteration 58 / 100: loss 0.582459 \n",
            "iteration 59 / 100: loss 0.582329 \n",
            "iteration 60 / 100: loss 0.582211 \n",
            "iteration 61 / 100: loss 0.582103 \n",
            "iteration 62 / 100: loss 0.582006 \n",
            "iteration 63 / 100: loss 0.581917 \n",
            "iteration 64 / 100: loss 0.581837 \n",
            "iteration 65 / 100: loss 0.581764 \n",
            "iteration 66 / 100: loss 0.581698 \n",
            "iteration 67 / 100: loss 0.581639 \n",
            "iteration 68 / 100: loss 0.581584 \n",
            "iteration 69 / 100: loss 0.581535 \n",
            "iteration 70 / 100: loss 0.581490 \n",
            "iteration 71 / 100: loss 0.581450 \n",
            "iteration 72 / 100: loss 0.581413 \n",
            "iteration 73 / 100: loss 0.581380 \n",
            "iteration 74 / 100: loss 0.581350 \n",
            "iteration 75 / 100: loss 0.581322 \n",
            "iteration 76 / 100: loss 0.581298 \n",
            "iteration 77 / 100: loss 0.581275 \n",
            "iteration 78 / 100: loss 0.581255 \n",
            "iteration 79 / 100: loss 0.581237 \n",
            "iteration 80 / 100: loss 0.581220 \n",
            "iteration 81 / 100: loss 0.581205 \n",
            "iteration 82 / 100: loss 0.581191 \n",
            "iteration 83 / 100: loss 0.581179 \n",
            "iteration 84 / 100: loss 0.581168 \n",
            "iteration 85 / 100: loss 0.581158 \n",
            "iteration 86 / 100: loss 0.581148 \n",
            "iteration 87 / 100: loss 0.581140 \n",
            "iteration 88 / 100: loss 0.581133 \n",
            "iteration 89 / 100: loss 0.581126 \n",
            "iteration 90 / 100: loss 0.581120 \n",
            "iteration 91 / 100: loss 0.581114 \n",
            "iteration 92 / 100: loss 0.581109 \n",
            "iteration 93 / 100: loss 0.581104 \n",
            "iteration 94 / 100: loss 0.581100 \n",
            "iteration 95 / 100: loss 0.581097 \n",
            "iteration 96 / 100: loss 0.581093 \n",
            "iteration 97 / 100: loss 0.581090 \n",
            "iteration 98 / 100: loss 0.581087 \n",
            "iteration 99 / 100: loss 0.581085 \n"
          ],
          "name": "stdout"
        }
      ]
    },
    {
      "cell_type": "code",
      "metadata": {
        "colab": {
          "base_uri": "https://localhost:8080/",
          "height": 371
        },
        "id": "jZ1aheajSE7D",
        "outputId": "828253a2-44c5-4bfd-edab-c9b1994c8cf6"
      },
      "source": [
        "# Printing accuracies and losses\n",
        "\n",
        "# History\n",
        "fig, ax = plt.subplots(1,2, figsize = (10,5))\n",
        "ax[0].plot(loss_history)                # Training Loss History\n",
        "ax[1].plot(train_acc_history)           # Training Accuracy History\n",
        "\n",
        "# Calculating and Printing Training Accuracy\n",
        "x_t = x_train\n",
        "h = 1.0/(1.0+np.exp(-(x_t.dot(w1) + b1)))\n",
        "y_pred = h.dot(w2) + b2\n",
        "train_acc = 1.0 - 1/(Ntr*9)*(np.abs(np.argmax(y_train, axis = 1) - np.argmax(y_pred, axis = 1))).sum()\n",
        "print(\"train_acc = \",train_acc)\n",
        "\n",
        "# Calculating and Printing Testing Accuracy\n",
        "x_t = x_test\n",
        "h = 1.0/(1.0+np.exp(-(x_t.dot(w1) + b1)))\n",
        "y_pred = h.dot(w2) + b2\n",
        "test_acc =  1.0 - 1/(Nte*9)*(np.abs(np.argmax(y_test, axis = 1) - np.argmax(y_pred, axis = 1))).sum()\n",
        "print(\"test_acc = \",test_acc)\n",
        "\n",
        "# Testing Loss\n",
        "test_loss = (1./Nte)*(np.square(y_pred - y_test).sum())\n",
        "print(\"test_loss = \",test_loss)"
      ],
      "execution_count": 10,
      "outputs": [
        {
          "output_type": "stream",
          "text": [
            "train_acc =  0.8630177777777778\n",
            "test_acc =  0.7769555555555555\n",
            "test_loss =  0.7406846196990644\n"
          ],
          "name": "stdout"
        },
        {
          "output_type": "display_data",
          "data": {
            "image/png": "[encoded data removed]",
            "text/plain": [
              "<Figure size 720x360 with 2 Axes>"
            ]
          },
          "metadata": {
            "tags": [],
            "needs_background": "light"
          }
        }
      ]
    },
    {
      "cell_type": "markdown",
      "metadata": {
        "id": "tADy4BGr2udO"
      },
      "source": [
        "Log (Experiment with Alpha)\n",
        "\n",
        "alpha     tr_loss     te_loss      tr_acc     te_acc     ierations\n",
        "\n",
        "2e-3      0.7411      0.7512       0.7815     0.7694     30000\n",
        "\n",
        "5e-3      0.6682      0.7277       0.8225     0.7824     30000\n",
        "\n",
        "5e-3      0.6817      0.7291       0.8219     0.7808     5000\n",
        "\n",
        "1e-2      0.5941      0.7311       0.8555     0.7809     5000\n",
        "\n",
        "1.6e-2    0.5830      0.7421       0.8637     0.7733     5000\n",
        "\n",
        "1.5e-2    0.5744      0.7389       0.8684     0.7812     5000\n",
        "\n",
        "1.4e-2    0.5741      0.7411       0.8684     0.7799     5000      "
      ]
    }
  ]
}